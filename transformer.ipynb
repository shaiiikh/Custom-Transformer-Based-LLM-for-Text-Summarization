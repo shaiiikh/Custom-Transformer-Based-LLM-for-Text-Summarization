{
 "cells": [
  {
   "cell_type": "markdown",
   "metadata": {},
   "source": [
    "# Custom Transformer-Based LLM for Text Summarization"
   ]
  },
  {
   "cell_type": "markdown",
   "metadata": {},
   "source": [
    "# 1. Designing the Transformer-Based LLM:"
   ]
  },
  {
   "cell_type": "markdown",
   "metadata": {},
   "source": [
    "## Step 1: Core Components of the Transformer"
   ]
  },
  {
   "cell_type": "markdown",
   "metadata": {},
   "source": [
    "### 1.1. Positional Encoding"
   ]
  },
  {
   "cell_type": "code",
   "execution_count": null,
   "metadata": {},
   "outputs": [],
   "source": [
    "import torch\n",
    "import torch.nn as nn\n",
    "import math\n",
    "\n",
    "class PositionalEncoding(nn.Module):\n",
    "    def __init__(self, d_model, max_len=5000):\n",
    "        super(PositionalEncoding, self).__init__()\n",
    "        self.encoding = torch.zeros(max_len, d_model)\n",
    "        position = torch.arange(0, max_len).unsqueeze(1)\n",
    "        div_term = torch.exp(torch.arange(0, d_model, 2) * -(torch.log(torch.tensor(10000.0)) / d_model))\n",
    "        self.encoding[:, 0::2] = torch.sin(position * div_term)\n",
    "        self.encoding[:, 1::2] = torch.cos(position * div_term)\n",
    "        self.encoding = self.encoding.unsqueeze(0)\n",
    "\n",
    "    def forward(self, x):\n",
    "        return x + self.encoding[:, :x.size(1)].to(x.device)\n"
   ]
  },
  {
   "cell_type": "markdown",
   "metadata": {},
   "source": [
    "### 1.2. Multi-Head Attention Mechanism"
   ]
  },
  {
   "cell_type": "code",
   "execution_count": null,
   "metadata": {},
   "outputs": [],
   "source": [
    "class MultiHeadAttention(nn.Module):\n",
    "    def __init__(self, d_model, num_heads):\n",
    "        super(MultiHeadAttention, self).__init__()\n",
    "        assert d_model % num_heads == 0, \"d_model must be divisible by num_heads\"\n",
    "        self.d_k = d_model // num_heads\n",
    "        self.num_heads = num_heads\n",
    "        self.q_linear = nn.Linear(d_model, d_model)\n",
    "        self.k_linear = nn.Linear(d_model, d_model)\n",
    "        self.v_linear = nn.Linear(d_model, d_model)\n",
    "        self.fc_out = nn.Linear(d_model, d_model)\n",
    "        self.softmax = nn.Softmax(dim=-1)\n",
    "\n",
    "    def forward(self, query, key, value, mask=None):\n",
    "        batch_size = query.size(0)\n",
    "\n",
    "        # Linear transformations and reshape\n",
    "        query = self.q_linear(query).view(batch_size, -1, self.num_heads, self.d_k).transpose(1, 2)\n",
    "        key = self.k_linear(key).view(batch_size, -1, self.num_heads, self.d_k).transpose(1, 2)\n",
    "        value = self.v_linear(value).view(batch_size, -1, self.num_heads, self.d_k).transpose(1, 2)\n",
    "\n",
    "        # Scaled dot-product attention\n",
    "        scores = torch.matmul(query, key.transpose(-2, -1)) / math.sqrt(self.d_k)\n",
    "        if mask is not None:\n",
    "            scores = scores.masked_fill(mask == 0, -1e9)\n",
    "        attention = self.softmax(scores)\n",
    "        out = torch.matmul(attention, value).transpose(1, 2).contiguous().view(batch_size, -1, self.num_heads * self.d_k)\n",
    "\n",
    "        return self.fc_out(out)"
   ]
  },
  {
   "cell_type": "markdown",
   "metadata": {},
   "source": [
    "### 1.3. Feed-Forward Networks"
   ]
  },
  {
   "cell_type": "code",
   "execution_count": null,
   "metadata": {},
   "outputs": [],
   "source": [
    "class FeedForward(nn.Module):\n",
    "    def __init__(self, d_model, d_ff, dropout=0.1):\n",
    "        super(FeedForward, self).__init__()\n",
    "        self.linear1 = nn.Linear(d_model, d_ff)\n",
    "        self.relu = nn.ReLU()\n",
    "        self.dropout = nn.Dropout(dropout)\n",
    "        self.linear2 = nn.Linear(d_ff, d_model)\n",
    "\n",
    "    def forward(self, x):\n",
    "        return self.linear2(self.dropout(self.relu(self.linear1(x))))\n"
   ]
  },
  {
   "cell_type": "markdown",
   "metadata": {},
   "source": [
    "### 1.4. Encoder Layer"
   ]
  },
  {
   "cell_type": "code",
   "execution_count": null,
   "metadata": {},
   "outputs": [],
   "source": [
    "class EncoderLayer(nn.Module):\n",
    "    def __init__(self, d_model, num_heads, d_ff, dropout=0.1):\n",
    "        super(EncoderLayer, self).__init__()\n",
    "        self.attention = MultiHeadAttention(d_model, num_heads)\n",
    "        self.ffn = FeedForward(d_model, d_ff, dropout)\n",
    "        self.norm1 = nn.LayerNorm(d_model)\n",
    "        self.norm2 = nn.LayerNorm(d_model)\n",
    "        self.dropout = nn.Dropout(dropout)\n",
    "\n",
    "    def forward(self, x, mask):\n",
    "        # Reshaping mask for broadcasting (if necessary)\n",
    "        mask = mask.unsqueeze(1).unsqueeze(2)  # Add dimensions for broadcasting (batch_size, 1, 1, seq_len)\n",
    "        \n",
    "        # Multi-head attention\n",
    "        attn_out = self.attention(x, x, x, mask)\n",
    "        x = self.norm1(x + self.dropout(attn_out))\n",
    "\n",
    "        # Feed-forward network\n",
    "        ffn_out = self.ffn(x)\n",
    "        x = self.norm2(x + self.dropout(ffn_out))\n",
    "\n",
    "        return x\n"
   ]
  },
  {
   "cell_type": "markdown",
   "metadata": {},
   "source": [
    "### 1.5. Decoder Layer"
   ]
  },
  {
   "cell_type": "code",
   "execution_count": null,
   "metadata": {},
   "outputs": [],
   "source": [
    "class DecoderLayer(nn.Module):\n",
    "    def __init__(self, d_model, num_heads, d_ff, dropout=0.1):\n",
    "        super(DecoderLayer, self).__init__()\n",
    "        self.self_attention = MultiHeadAttention(d_model, num_heads)\n",
    "        self.enc_dec_attention = MultiHeadAttention(d_model, num_heads)\n",
    "        self.ffn = FeedForward(d_model, d_ff, dropout)\n",
    "        self.norm1 = nn.LayerNorm(d_model)\n",
    "        self.norm2 = nn.LayerNorm(d_model)\n",
    "        self.norm3 = nn.LayerNorm(d_model)\n",
    "        self.dropout = nn.Dropout(dropout)\n",
    "\n",
    "    def forward(self, x, enc_out, src_mask, tgt_mask):\n",
    "        # Self-attention\n",
    "        self_attn_out = self.self_attention(x, x, x, tgt_mask)\n",
    "        x = self.norm1(x + self.dropout(self_attn_out))\n",
    "\n",
    "        # Encoder-decoder attention\n",
    "        enc_dec_attn_out = self.enc_dec_attention(x, enc_out, enc_out, src_mask)\n",
    "        x = self.norm2(x + self.dropout(enc_dec_attn_out))\n",
    "\n",
    "        # Feed-forward network\n",
    "        ffn_out = self.ffn(x)\n",
    "        x = self.norm3(x + self.dropout(ffn_out))\n",
    "        return x\n"
   ]
  },
  {
   "cell_type": "markdown",
   "metadata": {},
   "source": [
    "## Custom Modifications"
   ]
  },
  {
   "cell_type": "markdown",
   "metadata": {},
   "source": [
    "### 1. Hierarchical Attention"
   ]
  },
  {
   "cell_type": "code",
   "execution_count": null,
   "metadata": {},
   "outputs": [],
   "source": [
    "class HierarchicalAttention(nn.Module):\n",
    "    def __init__(self, d_model, num_heads):\n",
    "        super(HierarchicalAttention, self).__init__()\n",
    "        self.token_attention = MultiHeadAttention(d_model, num_heads)\n",
    "        self.sentence_attention = MultiHeadAttention(d_model, num_heads)\n",
    "        self.norm1 = nn.LayerNorm(d_model)\n",
    "        self.norm2 = nn.LayerNorm(d_model)\n",
    "\n",
    "    def forward(self, token_representations, sentence_representations, token_mask=None, sentence_mask=None):\n",
    "        # Token-level attention\n",
    "        token_context = self.token_attention(\n",
    "            token_representations, token_representations, token_representations, token_mask\n",
    "        )\n",
    "        token_context = self.norm1(token_representations + token_context)\n",
    "\n",
    "        # Sentence-level attention\n",
    "        sentence_context = self.sentence_attention(\n",
    "            sentence_representations, sentence_representations, sentence_representations, sentence_mask\n",
    "        )\n",
    "        sentence_context = self.norm2(sentence_representations + sentence_context)\n",
    "\n",
    "        return token_context, sentence_context\n"
   ]
  },
  {
   "cell_type": "markdown",
   "metadata": {},
   "source": [
    "### 2. Gated Linear Units (GLU) in Feed-Forward Networks"
   ]
  },
  {
   "cell_type": "code",
   "execution_count": null,
   "metadata": {},
   "outputs": [],
   "source": [
    "class GatedFeedForward(nn.Module):\n",
    "    def __init__(self, d_model, d_ff, dropout=0.1):\n",
    "        super(GatedFeedForward, self).__init__()\n",
    "        self.linear1 = nn.Linear(d_model, d_ff)\n",
    "        self.linear2 = nn.Linear(d_model, d_ff)\n",
    "        self.linear3 = nn.Linear(d_ff, d_model)\n",
    "        self.dropout = nn.Dropout(dropout)\n",
    "\n",
    "    def forward(self, x):\n",
    "        gate = torch.sigmoid(self.linear2(x))\n",
    "        return self.linear3(self.dropout(self.linear1(x) * gate))\n"
   ]
  },
  {
   "cell_type": "markdown",
   "metadata": {},
   "source": [
    "### 3. Sparse Attention"
   ]
  },
  {
   "cell_type": "code",
   "execution_count": null,
   "metadata": {},
   "outputs": [],
   "source": [
    "class SparseAttention(nn.Module):\n",
    "    def __init__(self, d_model, num_heads, window_size):\n",
    "        super(SparseAttention, self).__init__()\n",
    "        self.multi_head_attention = MultiHeadAttention(d_model, num_heads)\n",
    "        self.window_size = window_size\n",
    "\n",
    "    def forward(self, query, key, value, mask=None):\n",
    "        batch_size, seq_len, _ = query.size()\n",
    "\n",
    "        # Split into windows\n",
    "        windows = seq_len // self.window_size\n",
    "        sparse_mask = mask[:, :, :windows * self.window_size]\n",
    "        sparse_query = query[:, :windows * self.window_size, :]\n",
    "        sparse_key = key[:, :windows * self.window_size, :]\n",
    "        sparse_value = value[:, :windows * self.window_size, :]\n",
    "\n",
    "        # Apply attention only to windows\n",
    "        return self.multi_head_attention(sparse_query, sparse_key, sparse_value, sparse_mask)\n"
   ]
  },
  {
   "cell_type": "markdown",
   "metadata": {},
   "source": [
    "## Step 2: Full Transformer Architecture"
   ]
  },
  {
   "cell_type": "markdown",
   "metadata": {},
   "source": [
    "### Initialize the model with the custom transformer architecture"
   ]
  },
  {
   "cell_type": "code",
   "execution_count": null,
   "metadata": {},
   "outputs": [],
   "source": [
    "class CustomEncoderLayer(nn.Module):\n",
    "    def __init__(self, d_model, num_heads, d_ff, dropout=0.1):\n",
    "        super(CustomEncoderLayer, self).__init__()\n",
    "        self.attention = MultiHeadAttention(d_model, num_heads)\n",
    "        self.ffn = FeedForward(d_model, d_ff, dropout)\n",
    "        self.norm1 = nn.LayerNorm(d_model)\n",
    "        self.norm2 = nn.LayerNorm(d_model)\n",
    "        self.dropout = nn.Dropout(dropout)\n",
    "\n",
    "    def forward(self, x, sentence_representations, token_mask, sentence_mask):\n",
    "        # Self-attention\n",
    "        attn_out = self.attention(x, x, x, token_mask)\n",
    "        x = self.norm1(x + self.dropout(attn_out))\n",
    "\n",
    "        # Feed-forward network\n",
    "        ffn_out = self.ffn(x)\n",
    "        x = self.norm2(x + self.dropout(ffn_out))\n",
    "\n",
    "        return x, sentence_representations"
   ]
  },
  {
   "cell_type": "markdown",
   "metadata": {},
   "source": [
    "### Combine the encoder and decoder layers"
   ]
  },
  {
   "cell_type": "code",
   "execution_count": null,
   "metadata": {},
   "outputs": [],
   "source": [
    "class CustomTransformer(nn.Module):\n",
    "    def __init__(self, src_vocab_size, tgt_vocab_size, d_model, num_heads, num_layers, d_ff, max_len, dropout=0.1):\n",
    "        super(CustomTransformer, self).__init__()\n",
    "        self.encoder_embedding = nn.Embedding(src_vocab_size, d_model)\n",
    "        self.decoder_embedding = nn.Embedding(tgt_vocab_size, d_model)\n",
    "        self.positional_encoding = PositionalEncoding(d_model, max_len)\n",
    "\n",
    "        # Use CustomEncoderLayer instead of EncoderLayer\n",
    "        self.encoder = nn.ModuleList([CustomEncoderLayer(d_model, num_heads, d_ff, dropout) for _ in range(num_layers)])\n",
    "        self.decoder = nn.ModuleList([CustomEncoderLayer(d_model, num_heads, d_ff, dropout) for _ in range(num_layers)])\n",
    "\n",
    "        self.fc_out = nn.Linear(d_model, tgt_vocab_size)\n",
    "        self.dropout = nn.Dropout(dropout)\n",
    "\n",
    "    def forward(self, src, tgt, src_mask, tgt_mask):\n",
    "        # Ensure masks have the correct shape\n",
    "        src_mask = src_mask.unsqueeze(1).unsqueeze(2)  # (batch_size, 1, 1, seq_len)\n",
    "        tgt_mask = tgt_mask.unsqueeze(1).unsqueeze(2)  # (batch_size, 1, 1, seq_len)\n",
    "\n",
    "        # Encoder\n",
    "        src = self.dropout(self.positional_encoding(self.encoder_embedding(src)))\n",
    "        sentence_representations = src.mean(dim=1, keepdim=True)  # Example of hierarchical representation (e.g., averaging tokens per sentence)\n",
    "\n",
    "        # Pass through custom encoder layers\n",
    "        for layer in self.encoder:\n",
    "            src = layer(src, src_mask)\n",
    "\n",
    "        # Decoder\n",
    "        tgt = self.dropout(self.positional_encoding(self.decoder_embedding(tgt)))\n",
    "        for layer in self.decoder:\n",
    "            tgt = layer(tgt, src_mask)  # Only passing source mask to decoder\n",
    "\n",
    "        return self.fc_out(tgt)\n"
   ]
  },
  {
   "cell_type": "markdown",
   "metadata": {},
   "source": [
    "### Initialize the model with the custom transformer architecture"
   ]
  },
  {
   "cell_type": "code",
   "execution_count": null,
   "metadata": {},
   "outputs": [],
   "source": [
    "model = CustomTransformer(\n",
    "    src_vocab_size=5000,  # Example vocab size\n",
    "    tgt_vocab_size=5000,  # Target vocab size (can be same as source)\n",
    "    d_model=512,          # Embedding dimension\n",
    "    num_heads=8,          # Number of attention heads\n",
    "    num_layers=6,         # Number of layers in encoder/decoder\n",
    "    d_ff=2048,            # Feed-forward dimension\n",
    "    max_len=512,          # Maximum sequence length\n",
    "    dropout=0.1           # Dropout rate\n",
    ")\n",
    "\n",
    "# Example to check if everything is working\n",
    "print(model)\n"
   ]
  },
  {
   "cell_type": "markdown",
   "metadata": {},
   "source": [
    "# 2. Text Summarization: "
   ]
  },
  {
   "cell_type": "markdown",
   "metadata": {},
   "source": [
    "## A. Preprocessing the Data"
   ]
  },
  {
   "cell_type": "code",
   "execution_count": null,
   "metadata": {},
   "outputs": [],
   "source": [
    "from transformers import GPT2Tokenizer\n",
    "\n",
    "# Initialize tokenizer (you can use BERT, GPT-2, or other model-specific tokenizers)\n",
    "tokenizer = GPT2Tokenizer.from_pretrained('gpt2')\n",
    "\n",
    "# Example function to encode data\n",
    "def encode_data(text, summary):\n",
    "    input_ids = tokenizer.encode(text, truncation=True, padding='max_length', max_length=512, return_tensors=\"pt\")\n",
    "    target_ids = tokenizer.encode(summary, truncation=True, padding='max_length', max_length=128, return_tensors=\"pt\")\n",
    "    return input_ids, target_ids\n"
   ]
  },
  {
   "cell_type": "markdown",
   "metadata": {},
   "source": [
    "## B. Model Modifications for Summarization"
   ]
  },
  {
   "cell_type": "code",
   "execution_count": null,
   "metadata": {},
   "outputs": [],
   "source": [
    "class CustomTransformerForSummarization(CustomTransformer):\n",
    "    def __init__(self, src_vocab_size, tgt_vocab_size, d_model, num_heads, num_layers, d_ff, max_len, dropout=0.1):\n",
    "        super(CustomTransformerForSummarization, self).__init__(src_vocab_size, tgt_vocab_size, d_model, num_heads, num_layers, d_ff, max_len, dropout)\n",
    "        \n",
    "    def forward(self, src, tgt, src_mask, tgt_mask):\n",
    "        # Encoder (source sequence -> embedding + positional encoding)\n",
    "        src = self.dropout(self.positional_encoding(self.encoder_embedding(src)))\n",
    "        sentence_representations = src.mean(dim=1, keepdim=True)\n",
    "\n",
    "        # Pass through custom encoder layers\n",
    "        for layer in self.encoder:\n",
    "            src, sentence_representations = layer(src, sentence_representations, src_mask, src_mask)\n",
    "\n",
    "        # Decoder (target sequence -> embedding + positional encoding)\n",
    "        tgt = self.dropout(self.positional_encoding(self.decoder_embedding(tgt)))\n",
    "        for layer in self.decoder:\n",
    "            tgt = layer(tgt, src, src_mask, tgt_mask)\n",
    "\n",
    "        return self.fc_out(tgt)\n"
   ]
  },
  {
   "cell_type": "markdown",
   "metadata": {},
   "source": [
    "## C. Training Loop with Cross-Entropy Loss"
   ]
  },
  {
   "cell_type": "code",
   "execution_count": null,
   "metadata": {},
   "outputs": [],
   "source": [
    "import torch\n",
    "import torch.nn as nn\n",
    "from torch.optim import Adam\n",
    "\n",
    "# Loss function: Cross-entropy loss for sequence-to-sequence generation\n",
    "criterion = nn.CrossEntropyLoss()\n",
    "\n",
    "# Optimizer: Adam optimizer\n",
    "optimizer = Adam(model.parameters(), lr=1e-5)\n",
    "\n",
    "def train(model, dataloader):\n",
    "    model.train()\n",
    "    total_loss = 0\n",
    "    for batch in dataloader:\n",
    "        input_ids, target_ids = batch  # Assuming batch contains tokenized input and target text\n",
    "        \n",
    "        # Create attention masks for padding tokens\n",
    "        src_mask = (input_ids != tokenizer.pad_token_id).unsqueeze(1).unsqueeze(2)\n",
    "        tgt_mask = (target_ids != tokenizer.pad_token_id).unsqueeze(1).unsqueeze(2)\n",
    "        \n",
    "        # Forward pass\n",
    "        optimizer.zero_grad()\n",
    "        output = model(input_ids, target_ids, src_mask, tgt_mask)\n",
    "        \n",
    "        # Calculate the loss (use only the non-padded part of the target sequence)\n",
    "        loss = criterion(output.view(-1, output.shape[-1]), target_ids.view(-1))\n",
    "        \n",
    "        loss.backward()\n",
    "        optimizer.step()\n",
    "        \n",
    "        total_loss += loss.item()\n",
    "    \n",
    "    return total_loss / len(dataloader)\n"
   ]
  },
  {
   "cell_type": "markdown",
   "metadata": {},
   "source": [
    "## D. Evaluation"
   ]
  },
  {
   "cell_type": "code",
   "execution_count": null,
   "metadata": {},
   "outputs": [],
   "source": [
    "def generate_summary(model, input_text, max_length=150):\n",
    "    model.eval()\n",
    "    \n",
    "    # Tokenize the input text\n",
    "    input_ids = tokenizer.encode(input_text, return_tensors=\"pt\", max_length=512, truncation=True)\n",
    "    src_mask = (input_ids != tokenizer.pad_token_id).unsqueeze(1).unsqueeze(2)\n",
    "    \n",
    "    # Generate summary by decoding\n",
    "    generated_ids = model.generate(input_ids=input_ids, max_length=max_length, num_beams=4, early_stopping=True)\n",
    "    \n",
    "    # Decode the generated token IDs to text\n",
    "    summary = tokenizer.decode(generated_ids[0], skip_special_tokens=True)\n",
    "    \n",
    "    return summary\n"
   ]
  },
  {
   "cell_type": "markdown",
   "metadata": {},
   "source": [
    "##  Training and Evaluation Pipeline"
   ]
  },
  {
   "cell_type": "code",
   "execution_count": null,
   "metadata": {},
   "outputs": [],
   "source": [
    "# Example text input and expected output\n",
    "input_text = \"Your long input text here. This will be summarized by the model.\"\n",
    "expected_summary = \"This is the summary of the text.\"\n",
    "\n",
    "# Encode input text and expected summary\n",
    "input_ids, target_ids = encode_data(input_text, expected_summary)\n",
    "\n",
    "# Train the model\n",
    "for epoch in range(num_epochs):\n",
    "    loss = train(model, dataloader)\n",
    "    print(f\"Epoch {epoch}, Loss: {loss}\")\n",
    "\n",
    "# Evaluate the model on a new input text\n",
    "generated_summary = generate_summary(model, input_text)\n",
    "print(f\"Generated Summary: {generated_summary}\")\n"
   ]
  },
  {
   "cell_type": "markdown",
   "metadata": {},
   "source": [
    "# 3. Dataset:"
   ]
  },
  {
   "cell_type": "markdown",
   "metadata": {},
   "source": [
    "## A. Install and Import Necessary Libraries"
   ]
  },
  {
   "cell_type": "code",
   "execution_count": null,
   "metadata": {},
   "outputs": [],
   "source": [
    "pip install torch transformers datasets\n"
   ]
  },
  {
   "cell_type": "code",
   "execution_count": null,
   "metadata": {},
   "outputs": [],
   "source": [
    "from transformers import GPT2Tokenizer\n",
    "from torch.utils.data import Dataset, DataLoader\n",
    "import torch\n"
   ]
  },
  {
   "cell_type": "markdown",
   "metadata": {},
   "source": [
    "## B. Initialize the Tokenizer"
   ]
  },
  {
   "cell_type": "code",
   "execution_count": null,
   "metadata": {},
   "outputs": [],
   "source": [
    "# Initialize the tokenizer for GPT-2\n",
    "tokenizer = GPT2Tokenizer.from_pretrained('gpt2')\n",
    "\n",
    "# Add padding token if not already present in the tokenizer\n",
    "tokenizer.pad_token = tokenizer.eos_token\n"
   ]
  },
  {
   "cell_type": "markdown",
   "metadata": {},
   "source": [
    "## C. Dataset Class for Summarization"
   ]
  },
  {
   "cell_type": "code",
   "execution_count": null,
   "metadata": {},
   "outputs": [],
   "source": [
    "class SummarizationDataset(Dataset):\n",
    "    def __init__(self, input_texts, summaries, tokenizer, max_input_length=512, max_output_length=128):\n",
    "        \"\"\"\n",
    "        Args:\n",
    "            input_texts (list): List of input texts (articles).\n",
    "            summaries (list): List of corresponding summaries.\n",
    "            tokenizer (transformers.PreTrainedTokenizer): Tokenizer used to tokenize the texts.\n",
    "            max_input_length (int): Maximum length for input text sequences.\n",
    "            max_output_length (int): Maximum length for output summary sequences.\n",
    "        \"\"\"\n",
    "        self.input_texts = input_texts\n",
    "        self.summaries = summaries\n",
    "        self.tokenizer = tokenizer\n",
    "        self.max_input_length = max_input_length\n",
    "        self.max_output_length = max_output_length\n",
    "\n",
    "    def __len__(self):\n",
    "        return len(self.input_texts)\n",
    "\n",
    "    def __getitem__(self, idx):\n",
    "        # Get the input text and summary\n",
    "        input_text = self.input_texts[idx]\n",
    "        summary = self.summaries[idx]\n",
    "\n",
    "        # Tokenize the input text and summary\n",
    "        input_encoding = self.tokenizer(\n",
    "            input_text,\n",
    "            truncation=True,\n",
    "            padding='max_length',  # Pad to max length\n",
    "            max_length=self.max_input_length,\n",
    "            return_tensors='pt',\n",
    "            add_special_tokens=True\n",
    "        )\n",
    "\n",
    "        target_encoding = self.tokenizer(\n",
    "            summary,\n",
    "            truncation=True,\n",
    "            padding='max_length',  # Pad to max length\n",
    "            max_length=self.max_output_length,\n",
    "            return_tensors='pt',\n",
    "            add_special_tokens=True\n",
    "        )\n",
    "\n",
    "        # We need to squeeze the tensors to remove the extra dimension added by `return_tensors='pt'`\n",
    "        input_ids = input_encoding['input_ids'].squeeze()\n",
    "        attention_mask = input_encoding['attention_mask'].squeeze()\n",
    "        target_ids = target_encoding['input_ids'].squeeze()\n",
    "\n",
    "        return {\n",
    "            'input_ids': input_ids,\n",
    "            'attention_mask': attention_mask,\n",
    "            'labels': target_ids\n",
    "        }\n"
   ]
  },
  {
   "cell_type": "markdown",
   "metadata": {},
   "source": [
    "## D. Create DataLoader for Batching"
   ]
  },
  {
   "cell_type": "code",
   "execution_count": null,
   "metadata": {},
   "outputs": [],
   "source": [
    "# Example data (input text and summaries)\n",
    "input_texts = [\n",
    "    \"Article 1 text here...\",\n",
    "    \"Article 2 text here...\"\n",
    "]  # Replace with actual input text\n",
    "\n",
    "summaries = [\n",
    "    \"Summary of article 1\",\n",
    "    \"Summary of article 2\"\n",
    "]  # Replace with actual summaries\n",
    "\n",
    "# Instantiate the dataset\n",
    "dataset = SummarizationDataset(input_texts, summaries, tokenizer)\n",
    "\n",
    "# Create a DataLoader for batching\n",
    "dataloader = DataLoader(dataset, batch_size=8, shuffle=True)\n"
   ]
  },
  {
   "cell_type": "markdown",
   "metadata": {},
   "source": [
    "## E. Train the Model"
   ]
  },
  {
   "cell_type": "code",
   "execution_count": null,
   "metadata": {},
   "outputs": [],
   "source": [
    "# Example training loop\n",
    "from torch.optim import Adam\n",
    "import torch.nn as nn\n",
    "\n",
    "# Initialize model (CustomTransformer defined earlier)\n",
    "model = CustomTransformer(src_vocab_size=5000, tgt_vocab_size=5000, d_model=512, num_heads=8, num_layers=6, d_ff=2048, max_len=512, dropout=0.1)\n",
    "\n",
    "# Loss function and optimizer\n",
    "criterion = nn.CrossEntropyLoss()\n",
    "optimizer = Adam(model.parameters(), lr=1e-5)\n",
    "\n",
    "# Training loop\n",
    "model.train()\n",
    "for epoch in range(3):  # Example: 3 epochs\n",
    "    for batch in dataloader:\n",
    "        input_ids = batch['input_ids']\n",
    "        attention_mask = batch['attention_mask']\n",
    "        labels = batch['labels']\n",
    "        \n",
    "        # Zero the gradients\n",
    "        optimizer.zero_grad()\n",
    "        \n",
    "        # Forward pass\n",
    "        output = model(input_ids, input_ids, attention_mask, attention_mask)\n",
    "        \n",
    "        # Calculate the loss (ignore padding in the labels)\n",
    "        loss = criterion(output.view(-1, output.shape[-1]), labels.view(-1))\n",
    "        \n",
    "        # Backward pass\n",
    "        loss.backward()\n",
    "        \n",
    "        # Update parameters\n",
    "        optimizer.step()\n",
    "        \n",
    "    print(f\"Epoch {epoch + 1}, Loss: {loss.item()}\")\n"
   ]
  },
  {
   "cell_type": "markdown",
   "metadata": {},
   "source": [
    "## Evaluation (Text Generation)"
   ]
  },
  {
   "cell_type": "code",
   "execution_count": null,
   "metadata": {},
   "outputs": [],
   "source": [
    "# Example text input\n",
    "input_text = \"Your input text here.\"\n",
    "\n",
    "# Generate summary from the model\n",
    "generated_summary = generate_summary(model, input_text)\n",
    "print(f\"Generated Summary: {generated_summary}\")\n"
   ]
  },
  {
   "cell_type": "markdown",
   "metadata": {},
   "source": [
    "# 4. Training the Model:"
   ]
  },
  {
   "cell_type": "markdown",
   "metadata": {},
   "source": [
    "## 1. Implementing Training"
   ]
  },
  {
   "cell_type": "code",
   "execution_count": null,
   "metadata": {},
   "outputs": [],
   "source": [
    "import torch\n",
    "from torch.utils.data import DataLoader, Dataset\n",
    "from torch.optim import AdamW\n",
    "from transformers import get_linear_schedule_with_warmup\n",
    "\n",
    "# 1. Dataset Class (for DataLoader)\n",
    "class SummarizationDataset(Dataset):\n",
    "    def __init__(self, texts, summaries, tokenizer, max_input_len=512, max_target_len=128):\n",
    "        self.texts = texts\n",
    "        self.summaries = summaries\n",
    "        self.tokenizer = tokenizer\n",
    "        self.max_input_len = max_input_len\n",
    "        self.max_target_len = max_target_len\n",
    "    \n",
    "    def __len__(self):\n",
    "        return len(self.texts)\n",
    "    \n",
    "    def __getitem__(self, idx):\n",
    "        input_text = self.texts[idx]\n",
    "        target_text = self.summaries[idx]\n",
    "        \n",
    "        # Tokenize input and target texts\n",
    "        input_ids = self.tokenizer.encode(input_text, truncation=True, padding=\"max_length\", max_length=self.max_input_len)\n",
    "        target_ids = self.tokenizer.encode(target_text, truncation=True, padding=\"max_length\", max_length=self.max_target_len)\n",
    "        \n",
    "        return {\n",
    "            'input_ids': torch.tensor(input_ids),\n",
    "            'attention_mask': torch.tensor([1] * len(input_ids)),  # attention mask\n",
    "            'labels': torch.tensor(target_ids)\n",
    "        }\n",
    "\n",
    "# 2. Initialize the tokenizer\n",
    "from transformers import GPT2Tokenizer\n",
    "\n",
    "tokenizer = GPT2Tokenizer.from_pretrained('gpt2')\n",
    "\n",
    "# 3. Example texts and summaries (replace with actual data)\n",
    "texts = [\"This is an example sentence.\", \"Another example for text summarization.\"]\n",
    "summaries = [\"Example summary.\", \"Another example summary.\"]\n",
    "\n",
    "# 4. Create DataLoader\n",
    "dataset = SummarizationDataset(texts, summaries, tokenizer)\n",
    "train_loader = DataLoader(dataset, batch_size=8, shuffle=True)\n",
    "\n",
    "# 5. Initialize Model (Custom Transformer for Summarization)\n",
    "model = CustomTransformer(\n",
    "    src_vocab_size=5000, tgt_vocab_size=5000, d_model=512, num_heads=8, num_layers=6,\n",
    "    d_ff=2048, max_len=512, dropout=0.1\n",
    ")\n",
    "\n",
    "# 6. Optimizer and Scheduler\n",
    "optimizer = AdamW(model.parameters(), lr=5e-5, eps=1e-8)\n",
    "total_steps = len(train_loader) * 3  # 3 epochs\n",
    "scheduler = get_linear_schedule_with_warmup(optimizer, \n",
    "                                            num_warmup_steps=0, \n",
    "                                            num_training_steps=total_steps)\n",
    "\n",
    "# 7. Training Loop\n",
    "device = torch.device(\"cuda\" if torch.cuda.is_available() else \"cpu\")\n",
    "model.to(device)\n",
    "\n",
    "# Set model to training mode\n",
    "model.train()\n",
    "\n",
    "for epoch in range(3):  # Training for 3 epochs\n",
    "    total_loss = 0\n",
    "    for batch in train_loader:\n",
    "        input_ids = batch['input_ids'].to(device)\n",
    "        attention_mask = batch['attention_mask'].to(device)\n",
    "        labels = batch['labels'].to(device)\n",
    "\n",
    "        optimizer.zero_grad()\n",
    "\n",
    "        # Forward pass\n",
    "        outputs = model(input_ids, input_ids, attention_mask, attention_mask)\n",
    "        loss = torch.nn.functional.cross_entropy(outputs.view(-1, outputs.size(-1)), labels.view(-1))\n",
    "\n",
    "        # Backward pass and optimization\n",
    "        loss.backward()\n",
    "        optimizer.step()\n",
    "        scheduler.step()\n",
    "\n",
    "        total_loss += loss.item()\n",
    "\n",
    "    # Print average loss for this epoch\n",
    "    print(f\"Epoch {epoch+1}, Loss: {total_loss / len(train_loader)}\")\n",
    "\n",
    "# 8. Early Stopping or Validation Monitoring (optional)\n",
    "# Monitor validation loss or performance on a held-out set and stop training when improvements plateau.\n"
   ]
  },
  {
   "cell_type": "markdown",
   "metadata": {},
   "source": [
    "# 5. Evaluation Metrics:"
   ]
  },
  {
   "cell_type": "markdown",
   "metadata": {},
   "source": [
    "## 1. Loss Metrics:"
   ]
  },
  {
   "cell_type": "code",
   "execution_count": null,
   "metadata": {},
   "outputs": [],
   "source": [
    "import torch\n",
    "\n",
    "# Assuming you have a training loop similar to the previous one\n",
    "\n",
    "# Track training and validation loss\n",
    "train_loss = 0.0\n",
    "val_loss = 0.0\n",
    "\n",
    "# In training loop\n",
    "for batch in train_loader:\n",
    "    # Forward pass\n",
    "    outputs = model(input_ids, input_ids, attention_mask, attention_mask)\n",
    "    \n",
    "    # Compute cross-entropy loss\n",
    "    loss = torch.nn.functional.cross_entropy(outputs.view(-1, outputs.size(-1)), labels.view(-1))\n",
    "    \n",
    "    # Backpropagation\n",
    "    loss.backward()\n",
    "    optimizer.step()\n",
    "    scheduler.step()\n",
    "    \n",
    "    # Accumulate training loss\n",
    "    train_loss += loss.item()\n",
    "\n",
    "# For validation, you can similarly compute the validation loss (on validation data)\n",
    "# After each epoch, print or log the average training loss\n",
    "print(f\"Epoch {epoch+1}, Train Loss: {train_loss / len(train_loader)}\")\n"
   ]
  },
  {
   "cell_type": "markdown",
   "metadata": {},
   "source": [
    "## 2. ROUGE Evaluation:"
   ]
  },
  {
   "cell_type": "code",
   "execution_count": null,
   "metadata": {},
   "outputs": [],
   "source": [
    "pip install rouge-score\n"
   ]
  },
  {
   "cell_type": "code",
   "execution_count": null,
   "metadata": {},
   "outputs": [],
   "source": [
    "from rouge_score import rouge_scorer\n",
    "\n",
    "# Example summaries\n",
    "generated_summary = \"The quick brown fox jumps over the lazy dog\"\n",
    "reference_summary = \"A fast brown fox leaps over a lazy dog\"\n",
    "\n",
    "# Initialize ROUGE scorer\n",
    "scorer = rouge_scorer.RougeScorer([\"rouge1\", \"rouge2\", \"rougeL\"], use_stemmer=True)\n",
    "\n",
    "# Compute ROUGE scores\n",
    "scores = scorer.score(reference_summary, generated_summary)\n",
    "\n",
    "# Output the scores\n",
    "print(\"ROUGE-1: \", scores[\"rouge1\"])\n",
    "print(\"ROUGE-2: \", scores[\"rouge2\"])\n",
    "print(\"ROUGE-L: \", scores[\"rougeL\"])\n"
   ]
  },
  {
   "cell_type": "code",
   "execution_count": null,
   "metadata": {},
   "outputs": [],
   "source": [
    "# FOR BATCH EVALUTION\n",
    "\n",
    "from rouge_score import rouge_scorer\n",
    "import numpy as np\n",
    "\n",
    "# Initialize ROUGE scorer\n",
    "scorer = rouge_scorer.RougeScorer([\"rouge1\", \"rouge2\", \"rougeL\"], use_stemmer=True)\n",
    "\n",
    "# List to store the scores for all batches\n",
    "rouge_1 = []\n",
    "rouge_2 = []\n",
    "rouge_L = []\n",
    "\n",
    "for batch in test_loader:\n",
    "    generated_summaries = model(batch['input_ids'], batch['input_ids'], batch['attention_mask'], batch['attention_mask'])\n",
    "    # Assuming you have a function to decode model outputs back to text\n",
    "    generated_texts = decode(generated_summaries)\n",
    "    \n",
    "    for ref, gen in zip(batch['reference_summaries'], generated_texts):\n",
    "        scores = scorer.score(ref, gen)\n",
    "        rouge_1.append(scores[\"rouge1\"].fmeasure)\n",
    "        rouge_2.append(scores[\"rouge2\"].fmeasure)\n",
    "        rouge_L.append(scores[\"rougeL\"].fmeasure)\n",
    "\n",
    "# Calculate average ROUGE scores across the dataset\n",
    "avg_rouge_1 = np.mean(rouge_1)\n",
    "avg_rouge_2 = np.mean(rouge_2)\n",
    "avg_rouge_L = np.mean(rouge_L)\n",
    "\n",
    "print(f\"Average ROUGE-1: {avg_rouge_1}\")\n",
    "print(f\"Average ROUGE-2: {avg_rouge_2}\")\n",
    "print(f\"Average ROUGE-L: {avg_rouge_L}\")\n"
   ]
  },
  {
   "cell_type": "markdown",
   "metadata": {},
   "source": [
    "## 3. Final Training and Evaluation Code"
   ]
  },
  {
   "cell_type": "code",
   "execution_count": null,
   "metadata": {},
   "outputs": [],
   "source": [
    "from rouge_score import rouge_scorer\n",
    "from torch.utils.data import DataLoader\n",
    "import numpy as np\n",
    "\n",
    "# Example of the training loop with validation loss calculation and ROUGE evaluation\n",
    "\n",
    "# Training loop\n",
    "for epoch in range(epochs):\n",
    "    model.train()\n",
    "    train_loss = 0.0\n",
    "    for batch in train_loader:\n",
    "        optimizer.zero_grad()\n",
    "\n",
    "        input_ids = batch['input_ids'].to(device)\n",
    "        labels = batch['labels'].to(device)\n",
    "        attention_mask = batch['attention_mask'].to(device)\n",
    "        \n",
    "        # Forward pass\n",
    "        outputs = model(input_ids, input_ids, attention_mask, attention_mask)\n",
    "        \n",
    "        # Compute cross-entropy loss\n",
    "        loss = torch.nn.functional.cross_entropy(outputs.view(-1, outputs.size(-1)), labels.view(-1))\n",
    "        \n",
    "        # Backward pass and optimization\n",
    "        loss.backward()\n",
    "        optimizer.step()\n",
    "        \n",
    "        train_loss += loss.item()\n",
    "\n",
    "    print(f\"Epoch {epoch+1}, Training Loss: {train_loss / len(train_loader)}\")\n",
    "\n",
    "    # Validation after each epoch\n",
    "    model.eval()\n",
    "    val_loss = 0.0\n",
    "    rouge_1 = []\n",
    "    rouge_2 = []\n",
    "    rouge_L = []\n",
    "    \n",
    "    with torch.no_grad():\n",
    "        for batch in val_loader:\n",
    "            input_ids = batch['input_ids'].to(device)\n",
    "            labels = batch['labels'].to(device)\n",
    "            attention_mask = batch['attention_mask'].to(device)\n",
    "            \n",
    "            # Forward pass\n",
    "            outputs = model(input_ids, input_ids, attention_mask, attention_mask)\n",
    "            loss = torch.nn.functional.cross_entropy(outputs.view(-1, outputs.size(-1)), labels.view(-1))\n",
    "            val_loss += loss.item()\n",
    "            \n",
    "            # Decode and compute ROUGE\n",
    "            generated_summaries = decode(outputs)  # Decode the generated summaries\n",
    "            \n",
    "            for ref, gen in zip(batch['reference_summaries'], generated_summaries):\n",
    "                scores = scorer.score(ref, gen)\n",
    "                rouge_1.append(scores[\"rouge1\"].fmeasure)\n",
    "                rouge_2.append(scores[\"rouge2\"].fmeasure)\n",
    "                rouge_L.append(scores[\"rougeL\"].fmeasure)\n",
    "    \n",
    "    # Print validation loss and ROUGE scores\n",
    "    print(f\"Validation Loss: {val_loss / len(val_loader)}\")\n",
    "    print(f\"Average ROUGE-1: {np.mean(rouge_1)}\")\n",
    "    print(f\"Average ROUGE-2: {np.mean(rouge_2)}\")\n",
    "    print(f\"Average ROUGE-L: {np.mean(rouge_L)}\")\n"
   ]
  }
 ],
 "metadata": {
  "kernelspec": {
   "display_name": "Python 3",
   "language": "python",
   "name": "python3"
  },
  "language_info": {
   "codemirror_mode": {
    "name": "ipython",
    "version": 3
   },
   "file_extension": ".py",
   "mimetype": "text/x-python",
   "name": "python",
   "nbconvert_exporter": "python",
   "pygments_lexer": "ipython3",
   "version": "3.12.6"
  }
 },
 "nbformat": 4,
 "nbformat_minor": 2
}
